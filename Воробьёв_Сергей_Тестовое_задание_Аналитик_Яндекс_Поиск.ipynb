{
  "nbformat": 4,
  "nbformat_minor": 0,
  "metadata": {
    "colab": {
      "name": "Воробьёв_Сергей_Тестовое_задание. Аналитик_Яндекс.Поиск",
      "provenance": []
    },
    "kernelspec": {
      "name": "python3",
      "display_name": "Python 3"
    }
  },
  "cells": [
    {
      "cell_type": "markdown",
      "metadata": {
        "id": "lkrwStkeMOWj"
      },
      "source": [
        "##3 Конфеты\r\n",
        "У вас есть список конфет разных типов, вам нужно собрать одинаковые наборы для своих друзей. Какому максимальному числу друзей вы сможете собрать наборы так, чтобы раздарить все конфеты.\r\n",
        "Реализуйте функцию на питоне, которая принимает на вход список конфет и отдает максимальное число друзей\r\n",
        "\r\n",
        "#####ТЕСТ: ['a','b''c'] ОТВЕТ:1\r\n",
        "#####ТЕСТ: ['a','b','c','a','b','c','d'] ОТВЕТ:1\r\n",
        "#####ТЕСТ: ['a','b','c','a','b','c'] ОТВЕТ:2"
      ]
    },
    {
      "cell_type": "code",
      "metadata": {
        "id": "fwvxzDxkx8z-"
      },
      "source": [
        "def collect_candies(arr):\n",
        "    if len(arr) == 0:\n",
        "        return 0\n",
        "\n",
        "    arr_sorted = sorted(arr.copy())\n",
        "    answer = 1\n",
        "    current_answer = 1\n",
        "    current_elem = arr_sorted[0]\n",
        "    switch = False\n",
        "    #print(arr_sorted)\n",
        "    for i in range(1,len(arr_sorted)):\n",
        "        if not switch:\n",
        "           answer += 1\n",
        "\n",
        "        if arr_sorted[i] != current_elem:\n",
        "            switch = True\n",
        "            if current_answer < answer:\n",
        "                answer = current_answer\n",
        "            current_answer = 1\n",
        "            current_elem = arr_sorted[i]\n",
        "        else:\n",
        "            current_answer += 1\n",
        "        #print('answer is ',answer)\n",
        "    if current_answer < answer:\n",
        "        answer = current_answer\n",
        "    return answer"
      ],
      "execution_count": 4,
      "outputs": []
    },
    {
      "cell_type": "code",
      "metadata": {
        "colab": {
          "base_uri": "https://localhost:8080/"
        },
        "id": "68dRuvx90W6w",
        "outputId": "8169e936-7660-401b-b5dd-f38a2aee745a"
      },
      "source": [
        "a = ['a','b','c','d','a','b','c']\n",
        "collect_candies(a)"
      ],
      "execution_count": 5,
      "outputs": [
        {
          "output_type": "execute_result",
          "data": {
            "text/plain": [
              "1"
            ]
          },
          "metadata": {
            "tags": []
          },
          "execution_count": 5
        }
      ]
    },
    {
      "cell_type": "code",
      "metadata": {
        "colab": {
          "base_uri": "https://localhost:8080/"
        },
        "id": "z8UwMPtG0vS7",
        "outputId": "8d8f949d-38b7-4a07-8392-e0f6af98b6fb"
      },
      "source": [
        "b = ['a','b','c','a','b','c']\n",
        "c = ['a','b','c']\n",
        "collect_candies(b), collect_candies(c)"
      ],
      "execution_count": 6,
      "outputs": [
        {
          "output_type": "execute_result",
          "data": {
            "text/plain": [
              "(2, 1)"
            ]
          },
          "metadata": {
            "tags": []
          },
          "execution_count": 6
        }
      ]
    },
    {
      "cell_type": "code",
      "metadata": {
        "colab": {
          "base_uri": "https://localhost:8080/"
        },
        "id": "8WPyywm4Kk0l",
        "outputId": "873ce249-9686-4998-b007-a0340669c41d"
      },
      "source": [
        "d = ['a','a','a','a']\r\n",
        "e = ['b','a','a','a']\r\n",
        "collect_candies(d), collect_candies(e)"
      ],
      "execution_count": 8,
      "outputs": [
        {
          "output_type": "execute_result",
          "data": {
            "text/plain": [
              "(4, 1)"
            ]
          },
          "metadata": {
            "tags": []
          },
          "execution_count": 8
        }
      ]
    },
    {
      "cell_type": "code",
      "metadata": {
        "colab": {
          "base_uri": "https://localhost:8080/"
        },
        "id": "6u9J8GPpMhvt",
        "outputId": "57648fb8-74a5-442c-da82-d4a534437ab6"
      },
      "source": [
        "f = ['a','b','a','b','a','b']\r\n",
        "g = ['a','b','a','b','a','b','a']\r\n",
        "collect_candies(f), collect_candies(g)"
      ],
      "execution_count": 9,
      "outputs": [
        {
          "output_type": "execute_result",
          "data": {
            "text/plain": [
              "(3, 3)"
            ]
          },
          "metadata": {
            "tags": []
          },
          "execution_count": 9
        }
      ]
    }
  ]
}